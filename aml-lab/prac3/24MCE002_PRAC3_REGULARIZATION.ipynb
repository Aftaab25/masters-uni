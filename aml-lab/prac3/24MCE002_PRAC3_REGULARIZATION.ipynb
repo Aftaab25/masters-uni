{
 "cells": [
  {
   "cell_type": "markdown",
   "id": "7c300e03-8b24-4a2c-b396-b0674c8f046f",
   "metadata": {},
   "source": [
    "# PRACTICAL 2: USING REGULARIZATION TO SOLVE OVERFITTING"
   ]
  },
  {
   "cell_type": "markdown",
   "id": "e1d4d0e5-8184-488a-9a03-281d19ced2f4",
   "metadata": {},
   "source": [
    "### Importing Libraries"
   ]
  },
  {
   "cell_type": "code",
   "execution_count": 16,
   "id": "bb435505-6acb-4639-ab0a-6275316c64d0",
   "metadata": {},
   "outputs": [],
   "source": [
    "import numpy as np\n",
    "from sklearn import datasets, metrics\n",
    "from sklearn.preprocessing import StandardScaler\n",
    "import pandas as pd\n",
    "import matplotlib.pyplot as plt"
   ]
  },
  {
   "cell_type": "code",
   "execution_count": 3,
   "id": "b8727345-495a-4145-a2c6-40ac59d22f79",
   "metadata": {},
   "outputs": [
    {
     "name": "stdout",
     "output_type": "stream",
     "text": [
      "Top 5 rows:\n",
      "      CRIM    ZN  INDUS  CHAS    NOX     RM   AGE     DIS  RAD    TAX  PTRATIO       B  LSTAT  MEDV\n",
      "0  0.00632  18.0   2.31     0  0.538  6.575  65.2  4.0900    1  296.0     15.3  396.90   4.98  24.0\n",
      "1  0.02731   0.0   7.07     0  0.469  6.421  78.9  4.9671    2  242.0     17.8  396.90   9.14  21.6\n",
      "2  0.02729   0.0   7.07     0  0.469  7.185  61.1  4.9671    2  242.0     17.8  392.83   4.03  34.7\n",
      "3  0.03237   0.0   2.18     0  0.458  6.998  45.8  6.0622    3  222.0     18.7  394.63   2.94  33.4\n",
      "4  0.06905   0.0   2.18     0  0.458  7.147  54.2  6.0622    3  222.0     18.7  396.90   5.33  36.2\n",
      "\n",
      "Dataset Columns: \n",
      " Index(['CRIM', 'ZN', 'INDUS', 'CHAS', 'NOX', 'RM', 'AGE', 'DIS', 'RAD', 'TAX', 'PTRATIO', 'B', 'LSTAT', 'MEDV'], dtype='object')\n",
      "\n",
      "Dataset Shape:  (506, 14)\n"
     ]
    }
   ],
   "source": [
    "column_names = ['CRIM', 'ZN', 'INDUS', 'CHAS', 'NOX', 'RM', 'AGE', 'DIS', 'RAD', 'TAX', 'PTRATIO', 'B', 'LSTAT', 'MEDV']\n",
    "# Without Column names\n",
    "# data = pd.read_csv('housing.csv', header=None, delimiter=r\"\\s+\") # names=column_names\n",
    "# With Column names\n",
    "data = pd.read_csv('../housing.csv', header=None, delimiter=r\"\\s+\", names=column_names)\n",
    "pd.set_option('display.width', 1000)  # Increase the display width\n",
    "\n",
    "print(\"Top 5 rows:\")\n",
    "print(data.head())\n",
    "print()\n",
    "\n",
    "print(\"Dataset Columns: \\n\", data.columns)\n",
    "print()\n",
    "\n",
    "print(\"Dataset Shape: \", data.shape)"
   ]
  },
  {
   "cell_type": "code",
   "execution_count": 4,
   "id": "1a793c09-47c0-4e5c-83e2-6f32b3d2d091",
   "metadata": {},
   "outputs": [
    {
     "name": "stdout",
     "output_type": "stream",
     "text": [
      "Type of X_train: <class 'numpy.ndarray'> Shape of X_train: (400, 13)\n",
      "Type of X_test: <class 'numpy.ndarray'> Shape of X_test: (106, 13)\n"
     ]
    }
   ],
   "source": [
    "X=data.iloc[:,:12]\n",
    "y=data.iloc[:,13]\n",
    "\n",
    "X_train_temp1 = X.iloc[0:400,:]\n",
    "X_train = np.zeros((X_train_temp1.shape[0],X_train_temp1.shape[1]+1))\n",
    "X_train[:,0] = np.ones((X_train_temp1.shape[0]))\n",
    "X_train[:,1:] = X_train_temp1\n",
    "y_train = y.iloc[0:400]\n",
    "print(\"Type of X_train:\", type(X_train), \"Shape of X_train:\", X_train.shape)\n",
    "\n",
    "\n",
    "X_test_temp1 = X.iloc[400:506,:]\n",
    "X_test = np.zeros((X_test_temp1.shape[0],X_test_temp1.shape[1]+1))\n",
    "X_test[:,0] = np.ones((X_test_temp1.shape[0]))\n",
    "X_test[:,1:] = X_test_temp1\n",
    "y_test = y.iloc[400:506]\n",
    "print(\"Type of X_test:\", type(X_test), \"Shape of X_test:\", X_test.shape)\n",
    "\n",
    "\n",
    "scaler = StandardScaler()\n",
    "scaler.fit(X_train[:,1:])\n",
    "X_train[:,1:] = scaler.transform(X_train[:,1:])\n",
    "X_test[:,1:] = scaler.transform(X_test[:,1:])"
   ]
  },
  {
   "cell_type": "code",
   "execution_count": 29,
   "id": "620c9365-910b-49f3-8b42-e45daf012aaa",
   "metadata": {},
   "outputs": [
    {
     "name": "stdout",
     "output_type": "stream",
     "text": [
      "Theta: [ 2.43345000e+01 -1.33279603e+00  6.99813443e-01 -4.51417218e-01\n",
      "  6.84637599e-01 -1.22320146e+00  4.85145231e+00 -9.79561538e-01\n",
      " -2.06039095e+00  1.61988602e+00 -7.71258040e-01 -1.69899156e+00\n",
      "  1.12511230e-02]\n",
      "Update: [-1.28608235e-11  6.66399104e+01 -3.49907895e+01  2.25704959e+01\n",
      " -3.42317999e+01  6.11602479e+01 -2.42572569e+02  4.89779870e+01\n",
      "  1.03019501e+02 -8.09952703e+01  3.85638704e+01  8.49496664e+01\n",
      " -5.62484715e-01]\n",
      "Theta Shape: (13,)\n",
      "[16.0207744  20.80074167 22.17154469 11.87868058  9.78597212  4.60440756\n",
      "  5.49175425 17.06527071 18.71043442 25.20028701  9.77308469 23.89697868\n",
      "  9.37635766 10.68809479  1.53740109 20.34679417 24.59065867 11.68866294\n",
      "  4.85850993 24.74684004 21.39243702 19.76151308 17.5694875  21.63330853\n",
      " 18.45720205 17.35992723 19.92497309 15.13930239 21.80434114 21.97002952\n",
      " 23.21584331 25.76520608 24.4284263  22.754809   19.23696189 22.45592699\n",
      " 20.75392671 18.39168091 17.80368228 16.61112097 15.05687295 21.34458841\n",
      " 20.97600025 21.80122763 17.14471105 21.54369735 21.68176034 20.16877514\n",
      " 20.02588345 22.02413051 24.37965798 23.92071027 21.84124593 28.05716256\n",
      " 23.40508835 23.44874434 19.63695737 18.65204656 21.12411412 19.9525574\n",
      " 24.38557289 22.60394334 21.57893754 22.76441151 21.60196479 20.13170438\n",
      " 20.13664714 21.16122955 18.66537718 18.38434323 22.21254997 22.91869057\n",
      " 24.6071568  28.18594528 16.61819158 21.98539711 24.19414629 14.17519611\n",
      " 21.03798682 20.918507   23.17901207 26.30954018 28.21819932 20.85669559\n",
      " 21.42242933 23.46642803 21.18544224 21.26416031 12.96049535 12.54690737\n",
      " 10.35574654 16.22031868 16.50946628 20.04836131 21.86024199 20.2586708\n",
      " 16.8893279  19.55738643 21.69103334 18.45646149 21.17569126 23.35243316\n",
      " 20.1501206  25.44372087 24.07469096 19.20901076]\n",
      "MAE: 5.282732538799331\n",
      "MSE: 42.92451493320815\n"
     ]
    }
   ],
   "source": [
    "theta = np.random.uniform(0,1,size=(X_train.shape[1]))\n",
    "niterations = 1000\n",
    "alphas = [0.01, 0.05, 0.001, 0.003, 0.07]\n",
    "alpha = 0.05\n",
    "multi_costs = []\n",
    "index = 0\n",
    "m = X_train.shape[0]\n",
    "n = X_train.shape[1]\n",
    "\n",
    "error_train = []\n",
    "error_test = []\n",
    "lambda1 = 50\n",
    "for i in range(niterations):\n",
    "    update=np.zeros(X_train.shape[1])\n",
    "    ypred=np.dot(X_train,theta)\n",
    "    error=ypred - y_train\n",
    "    for j in range(n):\n",
    "        update[j]=np.sum(error*(X_train.T)[j])\n",
    "    theta[0] = theta[0] - (1/m)*(alpha)*(update[0])\n",
    "    theta[1:] = theta[1:]*(1 - (alpha * lambda1/m)) - (1/m)*(alpha)*update[1:] # (1/m)*(alpha)*(update[1:])\n",
    "    # cost = (1 / (2 * m)) * np.sum(np.square(error))\n",
    "    # costs.append(cost)\n",
    "    prediction_train=np.dot(X_train, theta)\n",
    "    prediction_test=np.dot(X_test, theta)\n",
    "    error_test.append(metrics.mean_squared_error(y_true=y_test,y_pred=prediction_test))\n",
    "    error_train.append(metrics.mean_squared_error(y_true=y_train,y_pred=prediction_train))\n",
    "    \n",
    "\n",
    "# For different Lambdas\n",
    "lambdas = [5, 10, 50, 100, 500, 1000]\n",
    "# errors \n",
    "for lambda1 in lambdas:    \n",
    "    for i in range(niterations):\n",
    "        update=np.zeros(X_train.shape[1])\n",
    "        ypred=np.dot(X_train,theta)\n",
    "        error=ypred - y_train\n",
    "        for j in range(n):\n",
    "            update[j]=np.sum(error*(X_train.T)[j])\n",
    "        theta[0] = theta[0] - (1/m)*(alpha)*(update[0])\n",
    "        theta[1:] = theta[1:]*(1 - (alpha * lambda1/m)) - (1/m)*(alpha)*update[1:] # (1/m)*(alpha)*(update[1:])\n",
    "        # cost = (1 / (2 * m)) * np.sum(np.square(error))\n",
    "        # costs.append(cost)\n",
    "        prediction_train=np.dot(X_train, theta)\n",
    "        prediction_test=np.dot(X_test, theta)\n",
    "        error_test.append(metrics.mean_squared_error(y_true=y_test,y_pred=prediction_test))\n",
    "        error_train.append(metrics.mean_squared_error(y_true=y_train,y_pred=prediction_train))\n",
    "\n",
    "print(\"Theta:\",theta)\n",
    "# print(\"Cost:\", cost)\n",
    "print(\"Update:\", update)\n",
    "print(\"Theta Shape:\", theta.shape)\n",
    "predictions=np.dot(X_test, theta)\n",
    "print(predictions)\n",
    "print(\"MAE:\", metrics.mean_absolute_error(y_true=y_test,y_pred=predictions))\n",
    "print(\"MSE:\", metrics.mean_squared_error(y_true=y_test,y_pred=predictions))"
   ]
  },
  {
   "cell_type": "code",
   "execution_count": 30,
   "id": "d1d110e8-d1db-4ecd-b8e7-1377ebb3b2fd",
   "metadata": {},
   "outputs": [
    {
     "data": {
      "image/png": "[encoded data removed]",
      "text/plain": [
       "<Figure size 640x480 with 1 Axes>"
      ]
     },
     "metadata": {},
     "output_type": "display_data"
    }
   ],
   "source": [
    "fig, ax = plt.subplots()\n",
    "ax.plot(range(1000), error_train, color = 'black', label = 'Line 1')\n",
    "ax.plot(range(1000), error_test, color = 'red', label = 'Line 2')\n",
    "ax.legend(loc = 'upper left')\n",
    "plt.show()\n"
   ]
  }
 ],
 "metadata": {
  "kernelspec": {
   "display_name": "Python 3 (ipykernel)",
   "language": "python",
   "name": "python3"
  },
  "language_info": {
   "codemirror_mode": {
    "name": "ipython",
    "version": 3
   },
   "file_extension": ".py",
   "mimetype": "text/x-python",
   "name": "python",
   "nbconvert_exporter": "python",
   "pygments_lexer": "ipython3",
   "version": "3.10.13"
  }
 },
 "nbformat": 4,
 "nbformat_minor": 5
}
